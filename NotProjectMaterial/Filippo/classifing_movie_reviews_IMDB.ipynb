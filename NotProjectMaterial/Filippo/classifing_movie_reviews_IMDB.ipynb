{
  "nbformat": 4,
  "nbformat_minor": 0,
  "metadata": {
    "colab": {
      "provenance": []
    },
    "kernelspec": {
      "name": "python3",
      "display_name": "Python 3"
    },
    "language_info": {
      "name": "python"
    }
  },
  "cells": [
    {
      "cell_type": "markdown",
      "source": [
        "# Classifing movie reviews\n",
        "\n",
        "This problem consists in classifying movie reviews as positive or negative:\n",
        "this is a two-class classification problem.\n",
        "\n",
        "The reviews are taken from the IMDB dataset that consist in 50 000 reviews.\n",
        "The reviews have been preprocessed: at each word of the dictionary has been assigned an integer, so in dataset a review is just a sequence of integers.  "
      ],
      "metadata": {
        "id": "6AEOoikDw_Z7"
      }
    },
    {
      "cell_type": "markdown",
      "source": [
        "### Extracting and pre-processing the data"
      ],
      "metadata": {
        "id": "uj0BEL41CzO-"
      }
    },
    {
      "cell_type": "code",
      "execution_count": 2,
      "metadata": {
        "id": "RAggLGYsw9st"
      },
      "outputs": [],
      "source": [
        "# loading the dataset\n",
        "from keras.datasets import imdb\n",
        "\n",
        "(train_data, train_labels), (test_data, test_labels) = imdb.load_data(num_words = 10000)"
      ]
    },
    {
      "cell_type": "code",
      "source": [
        "# visualizing data\n",
        "print('review: ')\n",
        "print(train_data[0])\n",
        "print('label: ')\n",
        "print(train_labels[0]) # note that each label can be either 1 or 0: 1 stands for a positive review; 0 for a negative one"
      ],
      "metadata": {
        "colab": {
          "base_uri": "https://localhost:8080/"
        },
        "id": "C50u8UPvz3LR",
        "outputId": "b2d63880-e902-4c01-9aeb-1ff99063c9de"
      },
      "execution_count": 3,
      "outputs": [
        {
          "output_type": "stream",
          "name": "stdout",
          "text": [
            "review: \n",
            "[1, 14, 22, 16, 43, 530, 973, 1622, 1385, 65, 458, 4468, 66, 3941, 4, 173, 36, 256, 5, 25, 100, 43, 838, 112, 50, 670, 2, 9, 35, 480, 284, 5, 150, 4, 172, 112, 167, 2, 336, 385, 39, 4, 172, 4536, 1111, 17, 546, 38, 13, 447, 4, 192, 50, 16, 6, 147, 2025, 19, 14, 22, 4, 1920, 4613, 469, 4, 22, 71, 87, 12, 16, 43, 530, 38, 76, 15, 13, 1247, 4, 22, 17, 515, 17, 12, 16, 626, 18, 2, 5, 62, 386, 12, 8, 316, 8, 106, 5, 4, 2223, 5244, 16, 480, 66, 3785, 33, 4, 130, 12, 16, 38, 619, 5, 25, 124, 51, 36, 135, 48, 25, 1415, 33, 6, 22, 12, 215, 28, 77, 52, 5, 14, 407, 16, 82, 2, 8, 4, 107, 117, 5952, 15, 256, 4, 2, 7, 3766, 5, 723, 36, 71, 43, 530, 476, 26, 400, 317, 46, 7, 4, 2, 1029, 13, 104, 88, 4, 381, 15, 297, 98, 32, 2071, 56, 26, 141, 6, 194, 7486, 18, 4, 226, 22, 21, 134, 476, 26, 480, 5, 144, 30, 5535, 18, 51, 36, 28, 224, 92, 25, 104, 4, 226, 65, 16, 38, 1334, 88, 12, 16, 283, 5, 16, 4472, 113, 103, 32, 15, 16, 5345, 19, 178, 32]\n",
            "label: \n",
            "1\n"
          ]
        }
      ]
    },
    {
      "cell_type": "code",
      "source": [
        "# prepering the data: one hot encoding\n",
        "\n",
        "import numpy as np\n",
        "\n",
        "# this function return a matrix of dimensions (# of sequences) * (dimension of a sequence)\n",
        "# at the row i we have the i-th reviews.\n",
        "# in position [i][j] we have a value that can be either 1 or 0. If this value is 1 it means that the j-th word of the dictionary is in the review. 0 otherwise.\n",
        "def vectorize_sequences(sequences, dimension = 10000):\n",
        "    results = np.zeros((len(sequences), dimension))\n",
        "    for i, sequence in enumerate(sequences):\n",
        "      results[i, sequence]  = 1.\n",
        "    return results\n",
        "\n",
        "\n",
        "x_train = vectorize_sequences(train_data)\n",
        "x_test = vectorize_sequences(test_data)\n",
        "\n",
        "# osservazione: così facendo non perdiamo informazione sulle recensioni? sapere l'ordine delle parole è importante:\n",
        "# RECENSIONE 1: non è un cattivo film, mi piace! --> chiaramente ha label 1\n",
        "# ma le stesse parole portano alla recensione:\n",
        "# RECENSIONE 2: è un cattivo film, non mi piace! --> chiaramente label 0.\n",
        "\n",
        "# morale: esistono insiemi di parole che non implicano una label precisa.\n",
        "# forse una seconda versione di questa NN potrebbe tenere conto dell'ordine delle parole.\n"
      ],
      "metadata": {
        "id": "APjEPHLCz6bb"
      },
      "execution_count": 4,
      "outputs": []
    },
    {
      "cell_type": "code",
      "source": [
        "x_train[0]"
      ],
      "metadata": {
        "colab": {
          "base_uri": "https://localhost:8080/"
        },
        "id": "u04agxJ91yxf",
        "outputId": "41694aa2-3229-4f6f-ad95-28520c304645"
      },
      "execution_count": 5,
      "outputs": [
        {
          "output_type": "execute_result",
          "data": {
            "text/plain": [
              "array([0., 1., 1., ..., 0., 0., 0.])"
            ]
          },
          "metadata": {},
          "execution_count": 5
        }
      ]
    },
    {
      "cell_type": "code",
      "source": [
        "# we also need to vectorize the labels: ( we need to make them a tensor)\n",
        "y_train = np.asarray(train_labels).astype('float32')\n",
        "y_test = np.asarray(test_labels).astype('float32')\n",
        "#now the data is ready to be fed to a NN"
      ],
      "metadata": {
        "id": "KGHdfSJE6mro"
      },
      "execution_count": 6,
      "outputs": []
    },
    {
      "cell_type": "markdown",
      "source": [
        "### Building the NN"
      ],
      "metadata": {
        "id": "P-VxVwVt7Nfb"
      }
    },
    {
      "cell_type": "code",
      "source": [
        "from keras import models, layers"
      ],
      "metadata": {
        "id": "DpbW-ErT7XbK"
      },
      "execution_count": 7,
      "outputs": []
    },
    {
      "cell_type": "code",
      "source": [
        "model = models.Sequential()\n",
        "model.add(layers.Dense(16, activation = 'relu', input_shape = (10000,)))\n",
        "model.add(layers.Dense(16, activation = 'relu'))\n",
        "model.add(layers.Dense(1, activation = 'sigmoid'))"
      ],
      "metadata": {
        "id": "ICUOa05eDOhf"
      },
      "execution_count": 8,
      "outputs": []
    },
    {
      "cell_type": "code",
      "source": [
        "# compiling the model\n",
        "model.compile(optimizer = 'rmsprop', loss = 'binary_crossentropy', metrics = ['accuracy'])"
      ],
      "metadata": {
        "id": "_cFlMApnD7Yv"
      },
      "execution_count": 9,
      "outputs": []
    },
    {
      "cell_type": "code",
      "source": [
        "x_val = x_train[:10000] # x_val contains the first 10000 elements of the train dataset\n",
        "partial_x_train = x_train[10000:] # partial x_train containst the elements from 10001 to -1 of the train dataset\n",
        "y_val = y_train[:10000]\n",
        "partial_y_train = y_train[10000:]"
      ],
      "metadata": {
        "id": "ijp-ixmyFEFz"
      },
      "execution_count": 10,
      "outputs": []
    },
    {
      "cell_type": "markdown",
      "source": [
        "### Training the NN"
      ],
      "metadata": {
        "id": "IKd8k_xREz0O"
      }
    },
    {
      "cell_type": "code",
      "source": [
        "history = model.fit(partial_x_train, partial_y_train, epochs = 20, batch_size=512, validation_data=(x_val, y_val))"
      ],
      "metadata": {
        "colab": {
          "base_uri": "https://localhost:8080/"
        },
        "id": "N5uXq9oKE0G-",
        "outputId": "8412d843-0c51-4e21-8363-5b06b90d7e49"
      },
      "execution_count": 11,
      "outputs": [
        {
          "output_type": "stream",
          "name": "stdout",
          "text": [
            "Epoch 1/20\n",
            "30/30 [==============================] - 3s 73ms/step - loss: 0.5536 - accuracy: 0.7612 - val_loss: 0.4243 - val_accuracy: 0.8528\n",
            "Epoch 2/20\n",
            "30/30 [==============================] - 1s 35ms/step - loss: 0.3436 - accuracy: 0.8904 - val_loss: 0.3260 - val_accuracy: 0.8817\n",
            "Epoch 3/20\n",
            "30/30 [==============================] - 1s 48ms/step - loss: 0.2566 - accuracy: 0.9147 - val_loss: 0.3114 - val_accuracy: 0.8725\n",
            "Epoch 4/20\n",
            "30/30 [==============================] - 1s 49ms/step - loss: 0.2070 - accuracy: 0.9300 - val_loss: 0.2762 - val_accuracy: 0.8880\n",
            "Epoch 5/20\n",
            "30/30 [==============================] - 2s 54ms/step - loss: 0.1756 - accuracy: 0.9408 - val_loss: 0.2759 - val_accuracy: 0.8873\n",
            "Epoch 6/20\n",
            "30/30 [==============================] - 2s 59ms/step - loss: 0.1488 - accuracy: 0.9530 - val_loss: 0.2813 - val_accuracy: 0.8849\n",
            "Epoch 7/20\n",
            "30/30 [==============================] - 1s 36ms/step - loss: 0.1285 - accuracy: 0.9601 - val_loss: 0.3420 - val_accuracy: 0.8694\n",
            "Epoch 8/20\n",
            "30/30 [==============================] - 1s 35ms/step - loss: 0.1120 - accuracy: 0.9656 - val_loss: 0.3012 - val_accuracy: 0.8824\n",
            "Epoch 9/20\n",
            "30/30 [==============================] - 1s 36ms/step - loss: 0.0947 - accuracy: 0.9723 - val_loss: 0.3150 - val_accuracy: 0.8817\n",
            "Epoch 10/20\n",
            "30/30 [==============================] - 1s 34ms/step - loss: 0.0868 - accuracy: 0.9739 - val_loss: 0.3354 - val_accuracy: 0.8802\n",
            "Epoch 11/20\n",
            "30/30 [==============================] - 1s 36ms/step - loss: 0.0713 - accuracy: 0.9809 - val_loss: 0.3471 - val_accuracy: 0.8799\n",
            "Epoch 12/20\n",
            "30/30 [==============================] - 1s 35ms/step - loss: 0.0634 - accuracy: 0.9836 - val_loss: 0.3647 - val_accuracy: 0.8777\n",
            "Epoch 13/20\n",
            "30/30 [==============================] - 1s 48ms/step - loss: 0.0550 - accuracy: 0.9869 - val_loss: 0.3845 - val_accuracy: 0.8747\n",
            "Epoch 14/20\n",
            "30/30 [==============================] - 2s 52ms/step - loss: 0.0473 - accuracy: 0.9887 - val_loss: 0.4040 - val_accuracy: 0.8749\n",
            "Epoch 15/20\n",
            "30/30 [==============================] - 1s 44ms/step - loss: 0.0387 - accuracy: 0.9916 - val_loss: 0.4288 - val_accuracy: 0.8732\n",
            "Epoch 16/20\n",
            "30/30 [==============================] - 1s 36ms/step - loss: 0.0338 - accuracy: 0.9940 - val_loss: 0.4689 - val_accuracy: 0.8710\n",
            "Epoch 17/20\n",
            "30/30 [==============================] - 1s 36ms/step - loss: 0.0288 - accuracy: 0.9958 - val_loss: 0.4787 - val_accuracy: 0.8690\n",
            "Epoch 18/20\n",
            "30/30 [==============================] - 1s 36ms/step - loss: 0.0252 - accuracy: 0.9957 - val_loss: 0.5339 - val_accuracy: 0.8651\n",
            "Epoch 19/20\n",
            "30/30 [==============================] - 1s 34ms/step - loss: 0.0221 - accuracy: 0.9969 - val_loss: 0.5180 - val_accuracy: 0.8684\n",
            "Epoch 20/20\n",
            "30/30 [==============================] - 1s 33ms/step - loss: 0.0204 - accuracy: 0.9967 - val_loss: 0.5375 - val_accuracy: 0.8698\n"
          ]
        }
      ]
    },
    {
      "cell_type": "markdown",
      "source": [
        "### Plotting results"
      ],
      "metadata": {
        "id": "BvbaKa3RHvZZ"
      }
    },
    {
      "cell_type": "code",
      "source": [
        "import matplotlib.pyplot as plt"
      ],
      "metadata": {
        "id": "WRldpLQLIVlP"
      },
      "execution_count": 12,
      "outputs": []
    },
    {
      "cell_type": "code",
      "source": [
        "history_dict = history.history\n",
        "print(history_dict.keys())"
      ],
      "metadata": {
        "colab": {
          "base_uri": "https://localhost:8080/"
        },
        "id": "clFhgd4qHeDJ",
        "outputId": "6bbff7da-a78c-4aa0-aba5-2273ec190eb9"
      },
      "execution_count": 13,
      "outputs": [
        {
          "output_type": "stream",
          "name": "stdout",
          "text": [
            "dict_keys(['loss', 'accuracy', 'val_loss', 'val_accuracy'])\n"
          ]
        }
      ]
    },
    {
      "cell_type": "code",
      "source": [
        "loss_values = history_dict['loss']\n",
        "val_loss_values = history_dict['val_loss']\n",
        "epochs = range(1, len(loss_values) + 1)\n",
        "\n",
        "plt.plot(epochs, loss_values, 'bo', label = 'training loss')\n",
        "plt.plot(epochs, val_loss_values, 'b', label = 'validation loss')\n",
        "plt.title('Training and validation loss')\n",
        "plt.xlabel('Epochs')\n",
        "plt.ylabel('Loss')\n",
        "plt.legend()\n",
        "plt.show()"
      ],
      "metadata": {
        "colab": {
          "base_uri": "https://localhost:8080/",
          "height": 472
        },
        "id": "sqhd8doIHqUh",
        "outputId": "6c66e7fa-64da-4032-e39d-3bdbbf862374"
      },
      "execution_count": 14,
      "outputs": [
        {
          "output_type": "display_data",
          "data": {
            "text/plain": [
              "<Figure size 640x480 with 1 Axes>"
            ],
            "image/png": "[encoded data removed]"
          },
          "metadata": {}
        }
      ]
    },
    {
      "cell_type": "code",
      "source": [
        "plt.clf()\n",
        "acc = history_dict['accuracy']\n",
        "val_acc = history_dict['val_accuracy']\n",
        "plt.plot(epochs, acc, 'bo', label = 'training accuracy')\n",
        "plt.plot(epochs, val_acc, 'b', label = 'validation accuracy')\n",
        "plt.title('Training and validation accuracy')\n",
        "plt.xlabel('Epochs')\n",
        "plt.ylabel('Accuracy')\n",
        "plt.legend()\n",
        "plt.show"
      ],
      "metadata": {
        "colab": {
          "base_uri": "https://localhost:8080/",
          "height": 489
        },
        "id": "xwid_l6dJ_RR",
        "outputId": "8aa51528-9f46-49ea-ee3b-f009b3c5d54d"
      },
      "execution_count": 15,
      "outputs": [
        {
          "output_type": "execute_result",
          "data": {
            "text/plain": [
              "<function matplotlib.pyplot.show(close=None, block=None)>"
            ]
          },
          "metadata": {},
          "execution_count": 15
        },
        {
          "output_type": "display_data",
          "data": {
            "text/plain": [
              "<Figure size 640x480 with 1 Axes>"
            ],
            "image/png": "[encoded data removed]"
          },
          "metadata": {}
        }
      ]
    },
    {
      "cell_type": "markdown",
      "source": [
        "### Training a new network\n"
      ],
      "metadata": {
        "id": "H9fPypA3LRz2"
      }
    },
    {
      "cell_type": "code",
      "source": [
        "model = models.Sequential()\n",
        "model.add(layers.Dense(16, activation = 'relu', input_shape = (10000,)))\n",
        "model.add(layers.Dense(16, activation = 'relu'))\n",
        "model.add(layers.Dense(1, activation = 'sigmoid'))\n",
        "\n",
        "# compiling the model\n",
        "model.compile(optimizer = 'rmsprop', loss = 'binary_crossentropy', metrics = ['accuracy'])"
      ],
      "metadata": {
        "id": "_sDYbPdxMBI3"
      },
      "execution_count": 16,
      "outputs": []
    },
    {
      "cell_type": "code",
      "source": [
        "model.fit(x_train, y_train, epochs = 4, batch_size=512)"
      ],
      "metadata": {
        "id": "2oy6w8tCLmdB"
      },
      "execution_count": null,
      "outputs": []
    },
    {
      "cell_type": "code",
      "source": [
        "results = model.evaluate(x_train, y_train)"
      ],
      "metadata": {
        "id": "E3hCYWZCLwsD"
      },
      "execution_count": null,
      "outputs": []
    },
    {
      "cell_type": "code",
      "source": [
        "model.predict(x_test)"
      ],
      "metadata": {
        "colab": {
          "base_uri": "https://localhost:8080/"
        },
        "id": "EWHtDPX0MvnH",
        "outputId": "f4bec394-afc1-410c-b3f1-1e336997aa11"
      },
      "execution_count": 19,
      "outputs": [
        {
          "output_type": "stream",
          "name": "stdout",
          "text": [
            "782/782 [==============================] - 3s 3ms/step\n"
          ]
        },
        {
          "output_type": "execute_result",
          "data": {
            "text/plain": [
              "array([[0.29316792],\n",
              "       [0.9992369 ],\n",
              "       [0.884491  ],\n",
              "       ...,\n",
              "       [0.15117535],\n",
              "       [0.09562451],\n",
              "       [0.73100036]], dtype=float32)"
            ]
          },
          "metadata": {},
          "execution_count": 19
        }
      ]
    }
  ]
}