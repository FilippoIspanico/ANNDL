{
 "cells": [
  {
   "cell_type": "markdown",
   "metadata": {},
   "source": [
    "### Connection  to Drive and Importing libraries"
   ]
  },
  {
   "cell_type": "code",
   "execution_count": 1,
   "metadata": {},
   "outputs": [
    {
     "name": "stdout",
     "output_type": "stream",
     "text": [
      "42\n"
     ]
    },
    {
     "ename": "ModuleNotFoundError",
     "evalue": "No module named 'cv2'",
     "output_type": "error",
     "traceback": [
      "\u001b[1;31m---------------------------------------------------------------------------\u001b[0m",
      "\u001b[1;31mModuleNotFoundError\u001b[0m                       Traceback (most recent call last)",
      "\u001b[1;32mg:\\Il mio Drive\\UNIVERSITA\\ANN\\ANNDL\\Homework_1\\Homework_1_main.ipynb Cell 4\u001b[0m line \u001b[0;36m2\n\u001b[0;32m      <a href='vscode-notebook-cell:/g%3A/Il%20mio%20Drive/UNIVERSITA/ANN/ANNDL/Homework_1/Homework_1_main.ipynb#W3sZmlsZQ%3D%3D?line=0'>1</a>\u001b[0m \u001b[39mfrom\u001b[39;00m \u001b[39mfunction_folder\u001b[39;00m\u001b[39m.\u001b[39;00m\u001b[39mlibrarys\u001b[39;00m \u001b[39mimport\u001b[39;00m \u001b[39m*\u001b[39m\n\u001b[1;32m----> <a href='vscode-notebook-cell:/g%3A/Il%20mio%20Drive/UNIVERSITA/ANN/ANNDL/Homework_1/Homework_1_main.ipynb#W3sZmlsZQ%3D%3D?line=1'>2</a>\u001b[0m librarys_upload()\n",
      "File \u001b[1;32mg:\\Il mio Drive\\UNIVERSITA\\ANN\\ANNDL\\Homework_1\\function_folder\\librarys.py:21\u001b[0m, in \u001b[0;36mlibrarys_upload\u001b[1;34m()\u001b[0m\n\u001b[0;32m     19\u001b[0m random\u001b[39m.\u001b[39mseed(seed)\n\u001b[0;32m     20\u001b[0m \u001b[39m# Import other libraries\u001b[39;00m\n\u001b[1;32m---> 21\u001b[0m \u001b[39mimport\u001b[39;00m \u001b[39mcv2\u001b[39;00m\n\u001b[0;32m     22\u001b[0m \u001b[39mfrom\u001b[39;00m \u001b[39mtensorflow\u001b[39;00m\u001b[39m.\u001b[39;00m\u001b[39mkeras\u001b[39;00m\u001b[39m.\u001b[39;00m\u001b[39mapplications\u001b[39;00m\u001b[39m.\u001b[39;00m\u001b[39mmobilenet\u001b[39;00m \u001b[39mimport\u001b[39;00m preprocess_input\n\u001b[0;32m     23\u001b[0m \u001b[39mimport\u001b[39;00m \u001b[39mmatplotlib\u001b[39;00m\u001b[39m.\u001b[39;00m\u001b[39mpyplot\u001b[39;00m \u001b[39mas\u001b[39;00m \u001b[39mplt\u001b[39;00m\n",
      "\u001b[1;31mModuleNotFoundError\u001b[0m: No module named 'cv2'"
     ]
    }
   ],
   "source": [
    "from google.colab import drive\n",
    "drive.mount('/gdrive')\n",
    "%cd /gdrive/MyDrive/UNIVERSITA/ANN/LABS/LAB_4\n",
    "\n",
    "from function_folder.librarys import librarys\n",
    "librarys_upload()"
   ]
  },
  {
   "cell_type": "markdown",
   "metadata": {},
   "source": [
    "### Load and process the dataset"
   ]
  },
  {
   "cell_type": "code",
   "execution_count": null,
   "metadata": {},
   "outputs": [],
   "source": [
    "# Conditional check for unzipping\n",
    "unzip = False\n",
    "\n",
    "# Unzip the 'animals.zip' file if the 'unzip' flag is True\n",
    "if unzip:\n",
    "    !unzip public_data.zip\n",
    "\n",
    "\n",
    "from function_folder.load_images_from_folder import load_images_from_folder\n",
    "items_path = 'public_data/'\n",
    "items = load_images_from_folder(items_path)"
   ]
  },
  {
   "cell_type": "markdown",
   "metadata": {},
   "source": [
    "### Splitting the dataset"
   ]
  },
  {
   "cell_type": "code",
   "execution_count": null,
   "metadata": {},
   "outputs": [],
   "source": [
    "from function_folder.splitter import splitting_function\n",
    "X_train, X_val,X_test, y_train, y_val,y_test = splitting_function(X,y)"
   ]
  },
  {
   "cell_type": "markdown",
   "metadata": {},
   "source": [
    "## Model"
   ]
  },
  {
   "cell_type": "code",
   "execution_count": null,
   "metadata": {},
   "outputs": [],
   "source": [
    "from function_folder.models.model0 import MobileNetV2\n",
    "mobile = MobileNetV2()\n",
    "\n",
    "# Display the model architecture with input shapes\n",
    "tfk.utils.plot_model(mobile, show_shapes=True)"
   ]
  },
  {
   "cell_type": "code",
   "execution_count": null,
   "metadata": {},
   "outputs": [
    {
     "name": "stdout",
     "output_type": "stream",
     "text": [
      "Model: \"model\"\n",
      "_________________________________________________________________\n",
      " Layer (type)                Output Shape              Param #   \n",
      "=================================================================\n",
      " input_2 (InputLayer)        [(None, 224, 224, 3)]     0         \n",
      "                                                                 \n",
      " mobilenetv2_1.00_224 (Func  (None, 1280)              2257984   \n",
      " tional)                                                         \n",
      "                                                                 \n",
      " dense (Dense)               (None, 2)                 2562      \n",
      "                                                                 \n",
      "=================================================================\n",
      "Total params: 2260546 (8.62 MB)\n",
      "Trainable params: 2226434 (8.49 MB)\n",
      "Non-trainable params: 34112 (133.25 KB)\n",
      "_________________________________________________________________\n"
     ]
    }
   ],
   "source": [
    "# Use the supernet as feature extractor, i.e. freeze all its weigths\n",
    "mobile.trainable = False\n",
    "\n",
    "# Create an input layer with shape (224, 224, 3)\n",
    "inputs = tfk.Input(shape=(224, 224, 3))\n",
    "# Connect MobileNetV2 to the input\n",
    "x = mobile(inputs)\n",
    "# Add a Dense layer with 2 units and softmax activation as the classifier\n",
    "outputs = tfkl.Dense(2, activation='softmax')(x)\n",
    "\n",
    "# Create a Model connecting input and output\n",
    "tl_model = tfk.Model(inputs=inputs, outputs=outputs, name='model')\n",
    "\n",
    "# Compile the model with Categorical Cross-Entropy loss and Adam optimizer\n",
    "tl_model.compile(loss=tfk.losses.CategoricalCrossentropy(), optimizer=tfk.optimizers.Adam(), metrics=['accuracy'])\n",
    "\n",
    "# Display model summary\n",
    "tl_model.summary()"
   ]
  },
  {
   "cell_type": "markdown",
   "metadata": {},
   "source": [
    "### Train the model"
   ]
  },
  {
   "cell_type": "code",
   "execution_count": null,
   "metadata": {},
   "outputs": [],
   "source": [
    "# Train the model\n",
    "tl_history = tl_model.fit(\n",
    "    x = preprocess_input(X_train*255), # We need to apply the preprocessing thought for the MobileNetV2 network\n",
    "    y = y_train,\n",
    "    batch_size = 16,\n",
    "    epochs = 200,\n",
    "    validation_data = (preprocess_input(X_val*255), y_val), # We need to apply the preprocessing thought for the MobileNetV2 network\n",
    "    callbacks = [tfk.callbacks.EarlyStopping(monitor='val_accuracy', mode='max', patience=20, restore_best_weights=True)]\n",
    ").history"
   ]
  },
  {
   "cell_type": "markdown",
   "metadata": {},
   "source": [
    "### Plotting"
   ]
  },
  {
   "cell_type": "code",
   "execution_count": null,
   "metadata": {},
   "outputs": [],
   "source": [
    "from function_folder.plotting.history_plot import plot_history\n",
    "\n",
    "plot_history(tl_history)"
   ]
  },
  {
   "cell_type": "markdown",
   "metadata": {},
   "source": [
    "## Save the model"
   ]
  },
  {
   "cell_type": "code",
   "execution_count": null,
   "metadata": {},
   "outputs": [],
   "source": [
    "# Save the best model\n",
    "tl_model.save('Model_0')\n",
    "del tl_model"
   ]
  },
  {
   "cell_type": "markdown",
   "metadata": {},
   "source": [
    "## Fine Tuning"
   ]
  },
  {
   "cell_type": "code",
   "execution_count": null,
   "metadata": {},
   "outputs": [],
   "source": [
    "# Re-load the model after transfer learning\n",
    "ft_model = tfk.models.load_model('TransferLearningModel')\n",
    "ft_model.summary()\n",
    "\n",
    "# Set all MobileNetV2 layers as trainable\n",
    "ft_model.get_layer('mobilenetv2_1.00_224').trainable = True\n",
    "for i, layer in enumerate(ft_model.get_layer('mobilenetv2_1.00_224').layers):\n",
    "   print(i, layer.name, layer.trainable)\n",
    "\n",
    "\n",
    "# Freeze first N layers, e.g., until the 133rd one\n",
    "N = 133\n",
    "for i, layer in enumerate(ft_model.get_layer('mobilenetv2_1.00_224').layers[:N]):\n",
    "  layer.trainable=False\n",
    "for i, layer in enumerate(ft_model.get_layer('mobilenetv2_1.00_224').layers):\n",
    "   print(i, layer.name, layer.trainable)\n",
    "ft_model.summary()\n",
    "\n",
    "\n",
    "# Compile the model\n",
    "ft_model.compile(loss=tfk.losses.BinaryCrossentropy(), optimizer=tfk.optimizers.Adam(1e-5), metrics='accuracy')"
   ]
  },
  {
   "cell_type": "code",
   "execution_count": null,
   "metadata": {},
   "outputs": [],
   "source": [
    "# Fine-tune the model\n",
    "ft_history = ft_model.fit(\n",
    "    x = preprocess_input(X_train*255), # We need to apply the preprocessing thought for the MobileNetV2 network\n",
    "    y = y_train,\n",
    "    batch_size = 16,\n",
    "    epochs = 200,\n",
    "    validation_data = (preprocess_input(X_val*255), y_val), # We need to apply the preprocessing thought for the MobileNetV2 network\n",
    "    callbacks = [tfk.callbacks.EarlyStopping(monitor='val_accuracy', mode='max', patience=20, restore_best_weights=True)]\n",
    ").history"
   ]
  },
  {
   "cell_type": "markdown",
   "metadata": {},
   "source": [
    "## Plot"
   ]
  },
  {
   "cell_type": "code",
   "execution_count": null,
   "metadata": {},
   "outputs": [],
   "source": [
    "plot_history(ft_history)"
   ]
  },
  {
   "cell_type": "markdown",
   "metadata": {},
   "source": [
    "### Evaluation on test set"
   ]
  },
  {
   "cell_type": "code",
   "execution_count": null,
   "metadata": {},
   "outputs": [],
   "source": [
    "# Evaluate the model on the test set\n",
    "test_accuracy = ft_model.evaluate(preprocess_input(X_test*255),y_test,verbose=0)[-1]\n",
    "print('Test set accuracy %.4f' % test_accuracy)"
   ]
  }
 ],
 "metadata": {
  "kernelspec": {
   "display_name": "Python 3",
   "language": "python",
   "name": "python3"
  },
  "language_info": {
   "codemirror_mode": {
    "name": "ipython",
    "version": 3
   },
   "file_extension": ".py",
   "mimetype": "text/x-python",
   "name": "python",
   "nbconvert_exporter": "python",
   "pygments_lexer": "ipython3",
   "version": "3.10.10"
  }
 },
 "nbformat": 4,
 "nbformat_minor": 2
}
