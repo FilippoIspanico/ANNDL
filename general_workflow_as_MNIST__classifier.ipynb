{
  "nbformat": 4,
  "nbformat_minor": 0,
  "metadata": {
    "colab": {
      "provenance": [],
      "authorship_tag": "ABX9TyPL+XDsvQowBhjUig6nitvo",
      "include_colab_link": true
    },
    "kernelspec": {
      "name": "python3",
      "display_name": "Python 3"
    },
    "language_info": {
      "name": "python"
    }
  },
  "cells": [
    {
      "cell_type": "markdown",
      "metadata": {
        "id": "view-in-github",
        "colab_type": "text"
      },
      "source": [
        "<a href=\"https://colab.research.google.com/github/FilippoIspanico/ANNDL/blob/main/general_workflow_as_MNIST__classifier.ipynb\" target=\"_parent\"><img src=\"https://colab.research.google.com/assets/colab-badge.svg\" alt=\"Open In Colab\"/></a>"
      ]
    },
    {
      "cell_type": "markdown",
      "source": [
        "**General keras workflow**\n",
        "\n",
        "\n",
        "1.   Define training data: input tensors and output tensors\n",
        "2.   Define a network of layers that maps your input to your targets\n",
        "3.   Configure the learning processes: choose a loss function, an optimizer, and some metrics to monitor\n",
        "4. Iterate on your training data by calling the fit() method of your model\n",
        "\n"
      ],
      "metadata": {
        "id": "zZy5GD-3s-54"
      }
    },
    {
      "cell_type": "code",
      "execution_count": null,
      "metadata": {
        "id": "UdnSqswan0Wk"
      },
      "outputs": [],
      "source": [
        "import keras\n",
        "from keras.datasets import mnist\n"
      ]
    },
    {
      "cell_type": "code",
      "source": [
        "# Definfing trainig data: importing the MNIST dataset\n",
        "(train_images, train_labels), (test_images, test_labels) = mnist.load_data();\n",
        "print(train_images.shape)\n",
        "print(train_labels.shape)\n",
        "print(test_images.shape)\n",
        "print(test_labels.shape)"
      ],
      "metadata": {
        "colab": {
          "base_uri": "https://localhost:8080/"
        },
        "id": "H19kJ3lToFSA",
        "outputId": "ace09951-de2d-4083-8079-8fe9d2601b68"
      },
      "execution_count": null,
      "outputs": [
        {
          "output_type": "stream",
          "name": "stdout",
          "text": [
            "Downloading data from https://storage.googleapis.com/tensorflow/tf-keras-datasets/mnist.npz\n",
            "11490434/11490434 [==============================] - 1s 0us/step\n",
            "(60000, 28, 28)\n",
            "(60000,)\n",
            "(10000, 28, 28)\n",
            "(10000,)\n"
          ]
        }
      ]
    },
    {
      "cell_type": "code",
      "source": [
        "# Defining a network layers\n",
        "\n",
        "from keras import models, layers\n",
        "\n",
        "network = models.Sequential() # sequential is a class, in alternative can be used the functional API\n",
        "network.add(layers.Dense(512, activation = 'relu',  input_shape = (28 * 28, )))\n",
        "network.add(layers.Dense(10, activation = 'softmax'))"
      ],
      "metadata": {
        "id": "N2IhuQ0-tQsU"
      },
      "execution_count": null,
      "outputs": []
    },
    {
      "cell_type": "code",
      "source": [
        "# Configuring Learning process: choosing the optimizer, the loss function and the metrics of training & testing\n",
        "\n",
        "network.compile(optimizer = 'rmsprop', loss = 'categorical_crossentropy', metrics = ['accuracy'])\n"
      ],
      "metadata": {
        "id": "OV6TevD_ui2z"
      },
      "execution_count": null,
      "outputs": []
    },
    {
      "cell_type": "code",
      "source": [
        "# preprocessing data\n",
        "train_images = train_images.reshape((60000, 28*28))\n",
        "train_images = train_images.astype('float32')/255\n",
        "\n",
        "test_images = test_images.reshape((10000, 28*28))\n",
        "train_images = train_images.astype('float32')/255"
      ],
      "metadata": {
        "id": "MASGwTunuxHk"
      },
      "execution_count": null,
      "outputs": []
    },
    {
      "cell_type": "code",
      "source": [
        "from keras.utils import to_categorical\n",
        "\n",
        "train_labels = to_categorical(train_labels)\n",
        "test_labels = to_categorical(test_labels)"
      ],
      "metadata": {
        "id": "qyh4w0nXvI_v"
      },
      "execution_count": null,
      "outputs": []
    },
    {
      "cell_type": "code",
      "source": [
        "# training the network!\n",
        "network.fit(train_images, train_labels, epochs = 5, batch_size = 128)"
      ],
      "metadata": {
        "colab": {
          "base_uri": "https://localhost:8080/"
        },
        "id": "uCZfbzIzv-dv",
        "outputId": "c11fe66d-8266-47ac-f207-aea8932eed24"
      },
      "execution_count": null,
      "outputs": [
        {
          "output_type": "stream",
          "name": "stdout",
          "text": [
            "Epoch 1/5\n",
            "469/469 [==============================] - 9s 18ms/step - loss: 2.2400 - accuracy: 0.2467\n",
            "Epoch 2/5\n",
            "469/469 [==============================] - 7s 16ms/step - loss: 1.6963 - accuracy: 0.5861\n",
            "Epoch 3/5\n",
            "469/469 [==============================] - 5s 10ms/step - loss: 1.0647 - accuracy: 0.7472\n",
            "Epoch 4/5\n",
            "469/469 [==============================] - 5s 12ms/step - loss: 0.7607 - accuracy: 0.8087\n",
            "Epoch 5/5\n",
            "469/469 [==============================] - 4s 9ms/step - loss: 0.6122 - accuracy: 0.8395\n"
          ]
        },
        {
          "output_type": "execute_result",
          "data": {
            "text/plain": [
              "<keras.src.callbacks.History at 0x7cca722874c0>"
            ]
          },
          "metadata": {},
          "execution_count": 8
        }
      ]
    },
    {
      "cell_type": "code",
      "source": [
        "test_loss, test_acc = network.evaluate(test_images, test_labels)\n"
      ],
      "metadata": {
        "colab": {
          "base_uri": "https://localhost:8080/"
        },
        "id": "iO20L4_cwDsR",
        "outputId": "d7d170ef-00aa-4a83-a24f-d8dca9c3a089"
      },
      "execution_count": null,
      "outputs": [
        {
          "output_type": "stream",
          "name": "stdout",
          "text": [
            "313/313 [==============================] - 2s 4ms/step - loss: 15431.1123 - accuracy: 0.6957\n"
          ]
        }
      ]
    }
  ]
}