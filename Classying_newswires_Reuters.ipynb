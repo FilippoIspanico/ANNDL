{
  "nbformat": 4,
  "nbformat_minor": 0,
  "metadata": {
    "colab": {
      "provenance": [],
      "authorship_tag": "ABX9TyPdhtH5IqgDLJGuOSBRFqaY",
      "include_colab_link": true
    },
    "kernelspec": {
      "name": "python3",
      "display_name": "Python 3"
    },
    "language_info": {
      "name": "python"
    }
  },
  "cells": [
    {
      "cell_type": "markdown",
      "metadata": {
        "id": "view-in-github",
        "colab_type": "text"
      },
      "source": [
        "<a href=\"https://colab.research.google.com/github/FilippoIspanico/ANNDL/blob/main/Classying_newswires_Reuters.ipynb\" target=\"_parent\"><img src=\"https://colab.research.google.com/assets/colab-badge.svg\" alt=\"Open In Colab\"/></a>"
      ]
    },
    {
      "cell_type": "markdown",
      "source": [
        "### Extracting and pre-preocessing data"
      ],
      "metadata": {
        "id": "clFqRR0navRV"
      }
    },
    {
      "cell_type": "code",
      "source": [
        "from keras.datasets import reuters\n",
        "\n",
        "(train_data, train_labels), (test_data, test_labels) = reuters.load_data(num_words = 10000)"
      ],
      "metadata": {
        "colab": {
          "base_uri": "https://localhost:8080/"
        },
        "id": "qw9muPFHbAIF",
        "outputId": "e20cd870-0dd8-4988-dd97-b0442a948391"
      },
      "execution_count": null,
      "outputs": [
        {
          "output_type": "stream",
          "name": "stdout",
          "text": [
            "Downloading data from https://storage.googleapis.com/tensorflow/tf-keras-datasets/reuters.npz\n",
            "2110848/2110848 [==============================] - 1s 0us/step\n"
          ]
        }
      ]
    },
    {
      "cell_type": "code",
      "source": [
        "# prepering the data: one hot encoding\n",
        "\n",
        "import numpy as np\n",
        "\n",
        "# this function return a matrix of dimensions (# of sequences) * (dimension of a sequence)\n",
        "# at the row i we have the i-th reviews.\n",
        "# in position [i][j] we have a value that can be either 1 or 0. If this value is 1 it means that the j-th word of the dictionary is in the review. 0 otherwise.\n",
        "def vectorize_sequences(sequences, dimension = 10000):\n",
        "    results = np.zeros((len(sequences), dimension))\n",
        "    for i, sequence in enumerate(sequences):\n",
        "      results[i, sequence]  = 1.\n",
        "    return results\n",
        "\n",
        "\n",
        "x_train = vectorize_sequences(train_data)\n",
        "x_test = vectorize_sequences(test_data)\n"
      ],
      "metadata": {
        "id": "Eb8Efw3HbnVU"
      },
      "execution_count": null,
      "outputs": []
    },
    {
      "cell_type": "markdown",
      "source": [
        "Just as the newswires also the labels must be vectorized, in particular what we will do is the following:\n",
        "\n",
        "\n",
        "\n",
        "\\\n",
        "\\begin{array}{c}\n",
        "\\underbrace{\n",
        "\\begin{bmatrix}\n",
        "0 \\\\\n",
        "0 \\\\\n",
        "\\vdots \\\\\n",
        "0 \\\\\n",
        "1 \\\\\n",
        "0 \\\\\n",
        "\\vdots \\\\\n",
        "0\n",
        "\\end{bmatrix}\n",
        "}_{\\text{football news}}\n",
        "\\end{array}\n"
      ],
      "metadata": {
        "id": "nm-uENtKcFnK"
      }
    },
    {
      "cell_type": "code",
      "source": [
        "# performing one hot encoding on the labels:"
      ],
      "metadata": {
        "id": "IqnIAw12b6Kd"
      },
      "execution_count": null,
      "outputs": []
    },
    {
      "cell_type": "code",
      "source": [
        "from keras.utils import to_categorical\n",
        "one_hot_train_labels = to_categorical(train_labels)\n",
        "one_hot_test_labels = to_categorical(test_labels)"
      ],
      "metadata": {
        "id": "R44PlCgccErs"
      },
      "execution_count": null,
      "outputs": []
    },
    {
      "cell_type": "markdown",
      "source": [
        "### Building NN"
      ],
      "metadata": {
        "id": "FezjQ2xifoak"
      }
    },
    {
      "cell_type": "code",
      "source": [
        "from keras import models, layers"
      ],
      "metadata": {
        "id": "PyRSx0cCfwNd"
      },
      "execution_count": null,
      "outputs": []
    },
    {
      "cell_type": "code",
      "source": [
        "model = models.Sequential()\n",
        "model.add(layers.Dense(64, activation = 'relu', input_shape = (10000,)))\n",
        "model.add(layers.Dense(64, activation = 'relu'))\n",
        "model.add(layers.Dense(46, activation = 'softmax'))"
      ],
      "metadata": {
        "id": "AEh7xkWbfziU"
      },
      "execution_count": null,
      "outputs": []
    },
    {
      "cell_type": "code",
      "source": [
        "# compiling the model\n",
        "model.compile(optimizer = 'rmsprop', loss = 'categorical_crossentropy', metrics = ['accuracy'])"
      ],
      "metadata": {
        "id": "BPwrkI2MgKyE"
      },
      "execution_count": null,
      "outputs": []
    },
    {
      "cell_type": "code",
      "source": [
        "# setting aside a validation set\n",
        "x_val = x_train[:1000]\n",
        "partial_x_train = x_train[1000:]\n",
        "\n",
        "y_val = one_hot_train_labels[:1000]\n",
        "partial_y_train = one_hot_train_labels[1000:]\n"
      ],
      "metadata": {
        "id": "extvgYQegTAL"
      },
      "execution_count": null,
      "outputs": []
    },
    {
      "cell_type": "markdown",
      "source": [
        "### Training the NN"
      ],
      "metadata": {
        "id": "iifWzLiAhOCN"
      }
    },
    {
      "cell_type": "code",
      "source": [
        "history = model.fit(partial_x_train, partial_y_train, epochs=20, batch_size=512, validation_data=(x_val, y_val))"
      ],
      "metadata": {
        "colab": {
          "base_uri": "https://localhost:8080/"
        },
        "id": "X-PeEDDwgXJ0",
        "outputId": "89a0b73b-daab-4ad1-dcf8-851599c55e4f"
      },
      "execution_count": null,
      "outputs": [
        {
          "output_type": "stream",
          "name": "stdout",
          "text": [
            "Epoch 1/20\n",
            "16/16 [==============================] - 3s 116ms/step - loss: 2.8113 - accuracy: 0.5046 - val_loss: 1.8550 - val_accuracy: 0.6350\n",
            "Epoch 2/20\n",
            "16/16 [==============================] - 1s 54ms/step - loss: 1.5361 - accuracy: 0.6907 - val_loss: 1.3642 - val_accuracy: 0.6890\n",
            "Epoch 3/20\n",
            "16/16 [==============================] - 1s 46ms/step - loss: 1.1581 - accuracy: 0.7428 - val_loss: 1.1850 - val_accuracy: 0.7370\n",
            "Epoch 4/20\n",
            "16/16 [==============================] - 1s 48ms/step - loss: 0.9462 - accuracy: 0.7955 - val_loss: 1.0603 - val_accuracy: 0.7730\n",
            "Epoch 5/20\n",
            "16/16 [==============================] - 1s 47ms/step - loss: 0.7812 - accuracy: 0.8338 - val_loss: 1.0083 - val_accuracy: 0.7850\n",
            "Epoch 6/20\n",
            "16/16 [==============================] - 1s 47ms/step - loss: 0.6539 - accuracy: 0.8583 - val_loss: 0.9626 - val_accuracy: 0.7900\n",
            "Epoch 7/20\n",
            "16/16 [==============================] - 1s 46ms/step - loss: 0.5476 - accuracy: 0.8811 - val_loss: 0.9105 - val_accuracy: 0.8130\n",
            "Epoch 8/20\n",
            "16/16 [==============================] - 1s 47ms/step - loss: 0.4609 - accuracy: 0.9040 - val_loss: 0.8818 - val_accuracy: 0.8080\n",
            "Epoch 9/20\n",
            "16/16 [==============================] - 1s 47ms/step - loss: 0.3929 - accuracy: 0.9172 - val_loss: 0.8681 - val_accuracy: 0.8160\n",
            "Epoch 10/20\n",
            "16/16 [==============================] - 1s 49ms/step - loss: 0.3337 - accuracy: 0.9286 - val_loss: 0.8767 - val_accuracy: 0.8120\n",
            "Epoch 11/20\n",
            "16/16 [==============================] - 1s 47ms/step - loss: 0.2914 - accuracy: 0.9361 - val_loss: 0.8582 - val_accuracy: 0.8140\n",
            "Epoch 12/20\n",
            "16/16 [==============================] - 1s 46ms/step - loss: 0.2544 - accuracy: 0.9410 - val_loss: 0.8745 - val_accuracy: 0.8150\n",
            "Epoch 13/20\n",
            "16/16 [==============================] - 1s 46ms/step - loss: 0.2268 - accuracy: 0.9475 - val_loss: 0.8590 - val_accuracy: 0.8120\n",
            "Epoch 14/20\n",
            "16/16 [==============================] - 1s 47ms/step - loss: 0.2013 - accuracy: 0.9494 - val_loss: 0.8725 - val_accuracy: 0.8130\n",
            "Epoch 15/20\n",
            "16/16 [==============================] - 1s 64ms/step - loss: 0.1829 - accuracy: 0.9514 - val_loss: 0.8651 - val_accuracy: 0.8100\n",
            "Epoch 16/20\n",
            "16/16 [==============================] - 1s 85ms/step - loss: 0.1723 - accuracy: 0.9539 - val_loss: 0.9001 - val_accuracy: 0.8070\n",
            "Epoch 17/20\n",
            "16/16 [==============================] - 1s 69ms/step - loss: 0.1627 - accuracy: 0.9540 - val_loss: 0.8791 - val_accuracy: 0.8100\n",
            "Epoch 18/20\n",
            "16/16 [==============================] - 1s 46ms/step - loss: 0.1519 - accuracy: 0.9549 - val_loss: 0.9116 - val_accuracy: 0.8130\n",
            "Epoch 19/20\n",
            "16/16 [==============================] - 1s 47ms/step - loss: 0.1422 - accuracy: 0.9559 - val_loss: 0.9675 - val_accuracy: 0.7900\n",
            "Epoch 20/20\n",
            "16/16 [==============================] - 1s 45ms/step - loss: 0.1377 - accuracy: 0.9557 - val_loss: 0.9373 - val_accuracy: 0.8010\n"
          ]
        }
      ]
    },
    {
      "cell_type": "markdown",
      "source": [
        "### Plotting results"
      ],
      "metadata": {
        "id": "upBjlN2oiCKL"
      }
    },
    {
      "cell_type": "code",
      "source": [
        "import matplotlib.pyplot as plt\n",
        "history_dict = history.history\n",
        "loss_values = history_dict['loss']\n",
        "val_loss_values = history_dict['val_loss']\n",
        "epochs = range(1, len(loss_values) + 1)\n",
        "\n",
        "plt.plot(epochs, loss_values, 'bo', label = 'training loss')\n",
        "plt.plot(epochs, val_loss_values, 'b', label = 'validation loss')\n",
        "plt.title('Training and validation loss')\n",
        "plt.xlabel('Epochs')\n",
        "plt.ylabel('Loss')\n",
        "plt.legend()\n",
        "plt.show()"
      ],
      "metadata": {
        "colab": {
          "base_uri": "https://localhost:8080/",
          "height": 472
        },
        "id": "Qu-Qq4HpiEn0",
        "outputId": "eb33e82e-102a-4d82-ba04-e6a897370b50"
      },
      "execution_count": null,
      "outputs": [
        {
          "output_type": "display_data",
          "data": {
            "text/plain": [
              "<Figure size 640x480 with 1 Axes>"
            ],
            "image/png": "[encoded data removed]"
          },
          "metadata": {}
        }
      ]
    },
    {
      "cell_type": "code",
      "source": [
        "plt.clf()\n",
        "acc = history_dict['accuracy']\n",
        "val_acc = history_dict['val_accuracy']\n",
        "plt.plot(epochs, acc, 'bo', label = 'training accuracy')\n",
        "plt.plot(epochs, val_acc, 'b', label = 'validation accuracy')\n",
        "plt.title('Training and validation accuracy')\n",
        "plt.xlabel('Epochs')\n",
        "plt.ylabel('Accuracy')\n",
        "plt.legend()\n",
        "plt.show"
      ],
      "metadata": {
        "colab": {
          "base_uri": "https://localhost:8080/",
          "height": 489
        },
        "id": "5Ss0dyLpiLVs",
        "outputId": "a4709fc6-537f-4692-a79f-f46530722c0e"
      },
      "execution_count": null,
      "outputs": [
        {
          "output_type": "execute_result",
          "data": {
            "text/plain": [
              "<function matplotlib.pyplot.show(close=None, block=None)>"
            ]
          },
          "metadata": {},
          "execution_count": 16
        },
        {
          "output_type": "display_data",
          "data": {
            "text/plain": [
              "<Figure size 640x480 with 1 Axes>"
            ],
            "image/png": "[encoded data removed]"
          },
          "metadata": {}
        }
      ]
    },
    {
      "cell_type": "markdown",
      "source": [
        "We can observe that the model begins to overfit after 9 epochs, so we will train a new NN for 9 epochs"
      ],
      "metadata": {
        "id": "ktqiqePUjSnF"
      }
    },
    {
      "cell_type": "markdown",
      "source": [
        "### Building & training a new NN"
      ],
      "metadata": {
        "id": "BaBbtTxxjrnr"
      }
    },
    {
      "cell_type": "code",
      "source": [
        "model = models.Sequential()\n",
        "model.add(layers.Dense(64, activation = 'relu', input_shape = (10000,)))\n",
        "model.add(layers.Dense(64, activation = 'relu'))\n",
        "model.add(layers.Dense(46, activation = 'softmax'))\n",
        "# compiling the model\n",
        "model.compile(optimizer = 'rmsprop', loss = 'categorical_crossentropy', metrics = ['accuracy'])\n"
      ],
      "metadata": {
        "id": "ULKaMOHujInE"
      },
      "execution_count": null,
      "outputs": []
    },
    {
      "cell_type": "code",
      "source": [
        "history = model.fit(partial_x_train, partial_y_train, epochs=9, batch_size=512, validation_data=(x_val, y_val))"
      ],
      "metadata": {
        "colab": {
          "base_uri": "https://localhost:8080/"
        },
        "id": "mWNtO7yCkCrf",
        "outputId": "423ccc0d-1f19-4ffe-9c4b-761a7410ee27"
      },
      "execution_count": null,
      "outputs": [
        {
          "output_type": "stream",
          "name": "stdout",
          "text": [
            "Epoch 1/9\n",
            "16/16 [==============================] - 2s 84ms/step - loss: 2.8016 - accuracy: 0.5018 - val_loss: 1.8549 - val_accuracy: 0.6240\n",
            "Epoch 2/9\n",
            "16/16 [==============================] - 1s 80ms/step - loss: 1.5404 - accuracy: 0.6882 - val_loss: 1.3727 - val_accuracy: 0.7100\n",
            "Epoch 3/9\n",
            "16/16 [==============================] - 1s 64ms/step - loss: 1.1734 - accuracy: 0.7502 - val_loss: 1.1937 - val_accuracy: 0.7370\n",
            "Epoch 4/9\n",
            "16/16 [==============================] - 1s 88ms/step - loss: 0.9650 - accuracy: 0.7924 - val_loss: 1.0922 - val_accuracy: 0.7590\n",
            "Epoch 5/9\n",
            "16/16 [==============================] - 1s 93ms/step - loss: 0.8097 - accuracy: 0.8242 - val_loss: 1.0107 - val_accuracy: 0.7750\n",
            "Epoch 6/9\n",
            "16/16 [==============================] - 1s 93ms/step - loss: 0.6760 - accuracy: 0.8512 - val_loss: 0.9600 - val_accuracy: 0.7850\n",
            "Epoch 7/9\n",
            "16/16 [==============================] - 1s 83ms/step - loss: 0.5699 - accuracy: 0.8775 - val_loss: 0.9191 - val_accuracy: 0.8010\n",
            "Epoch 8/9\n",
            "16/16 [==============================] - 1s 89ms/step - loss: 0.4792 - accuracy: 0.8966 - val_loss: 0.9190 - val_accuracy: 0.7900\n",
            "Epoch 9/9\n",
            "16/16 [==============================] - 1s 86ms/step - loss: 0.4113 - accuracy: 0.9109 - val_loss: 0.8841 - val_accuracy: 0.8050\n"
          ]
        }
      ]
    },
    {
      "cell_type": "code",
      "source": [
        "results = model.evaluate(x_test, one_hot_test_labels)"
      ],
      "metadata": {
        "colab": {
          "base_uri": "https://localhost:8080/"
        },
        "id": "7v_bXNZnkoMT",
        "outputId": "4ed7a298-bfee-4536-b3ec-ddb039d6ab7f"
      },
      "execution_count": null,
      "outputs": [
        {
          "output_type": "stream",
          "name": "stdout",
          "text": [
            "71/71 [==============================] - 0s 6ms/step - loss: 0.9613 - accuracy: 0.7836\n"
          ]
        }
      ]
    },
    {
      "cell_type": "code",
      "source": [
        "prediction = model.predict(x_test)"
      ],
      "metadata": {
        "id": "Min99WXOlfGz"
      },
      "execution_count": null,
      "outputs": []
    },
    {
      "cell_type": "markdown",
      "source": [
        "### Experiments"
      ],
      "metadata": {
        "id": "aCZMOSLYl7Js"
      }
    },
    {
      "cell_type": "code",
      "source": [
        "model = models.Sequential()\n",
        "model.add(layers.Dense(128, activation = 'relu', input_shape = (10000,)))\n",
        "model.add(layers.Dense(64, activation = 'relu'))\n",
        "model.add(layers.Dense(46, activation = 'softmax'))\n",
        "# compiling the model\n",
        "model.compile(optimizer = 'rmsprop', loss = 'categorical_crossentropy', metrics = ['accuracy'])\n"
      ],
      "metadata": {
        "id": "woRphTZxl-Yq"
      },
      "execution_count": null,
      "outputs": []
    },
    {
      "cell_type": "code",
      "source": [
        "history = model.fit(partial_x_train, partial_y_train, epochs=20, batch_size=512, validation_data=(x_val, y_val))"
      ],
      "metadata": {
        "colab": {
          "base_uri": "https://localhost:8080/"
        },
        "id": "LpnV9mVzmFAr",
        "outputId": "63677770-820a-4c76-b38c-5ec2a3660265"
      },
      "execution_count": null,
      "outputs": [
        {
          "output_type": "stream",
          "name": "stdout",
          "text": [
            "Epoch 1/20\n",
            "16/16 [==============================] - 2s 90ms/step - loss: 2.3912 - accuracy: 0.5430 - val_loss: 1.5737 - val_accuracy: 0.6490\n",
            "Epoch 2/20\n",
            "16/16 [==============================] - 1s 72ms/step - loss: 1.3260 - accuracy: 0.7093 - val_loss: 1.2439 - val_accuracy: 0.7330\n",
            "Epoch 3/20\n",
            "16/16 [==============================] - 1s 72ms/step - loss: 0.9964 - accuracy: 0.7838 - val_loss: 1.0893 - val_accuracy: 0.7640\n",
            "Epoch 4/20\n",
            "16/16 [==============================] - 1s 69ms/step - loss: 0.7913 - accuracy: 0.8249 - val_loss: 0.9872 - val_accuracy: 0.7890\n",
            "Epoch 5/20\n",
            "16/16 [==============================] - 2s 118ms/step - loss: 0.6248 - accuracy: 0.8685 - val_loss: 0.9326 - val_accuracy: 0.8010\n",
            "Epoch 6/20\n",
            "16/16 [==============================] - 2s 95ms/step - loss: 0.5140 - accuracy: 0.8915 - val_loss: 0.8883 - val_accuracy: 0.8140\n",
            "Epoch 7/20\n",
            "16/16 [==============================] - 1s 70ms/step - loss: 0.4051 - accuracy: 0.9164 - val_loss: 0.8697 - val_accuracy: 0.8270\n",
            "Epoch 8/20\n",
            "16/16 [==============================] - 1s 70ms/step - loss: 0.3433 - accuracy: 0.9270 - val_loss: 0.8558 - val_accuracy: 0.8220\n",
            "Epoch 9/20\n",
            "16/16 [==============================] - 1s 69ms/step - loss: 0.2819 - accuracy: 0.9379 - val_loss: 0.8826 - val_accuracy: 0.8140\n",
            "Epoch 10/20\n",
            "16/16 [==============================] - 1s 71ms/step - loss: 0.2477 - accuracy: 0.9425 - val_loss: 0.8791 - val_accuracy: 0.8170\n",
            "Epoch 11/20\n",
            "16/16 [==============================] - 1s 70ms/step - loss: 0.2154 - accuracy: 0.9485 - val_loss: 0.9016 - val_accuracy: 0.8130\n",
            "Epoch 12/20\n",
            "16/16 [==============================] - 1s 70ms/step - loss: 0.1936 - accuracy: 0.9523 - val_loss: 0.9609 - val_accuracy: 0.8060\n",
            "Epoch 13/20\n",
            "16/16 [==============================] - 1s 71ms/step - loss: 0.1763 - accuracy: 0.9543 - val_loss: 0.8906 - val_accuracy: 0.8130\n",
            "Epoch 14/20\n",
            "16/16 [==============================] - 1s 70ms/step - loss: 0.1556 - accuracy: 0.9540 - val_loss: 0.9333 - val_accuracy: 0.8050\n",
            "Epoch 15/20\n",
            "16/16 [==============================] - 2s 96ms/step - loss: 0.1480 - accuracy: 0.9555 - val_loss: 0.9354 - val_accuracy: 0.8200\n",
            "Epoch 16/20\n",
            "16/16 [==============================] - 2s 121ms/step - loss: 0.1413 - accuracy: 0.9546 - val_loss: 0.9416 - val_accuracy: 0.8150\n",
            "Epoch 17/20\n",
            "16/16 [==============================] - 1s 76ms/step - loss: 0.1342 - accuracy: 0.9559 - val_loss: 0.9651 - val_accuracy: 0.8140\n",
            "Epoch 18/20\n",
            "16/16 [==============================] - 1s 71ms/step - loss: 0.1334 - accuracy: 0.9573 - val_loss: 0.9984 - val_accuracy: 0.8080\n",
            "Epoch 19/20\n",
            "16/16 [==============================] - 1s 70ms/step - loss: 0.1233 - accuracy: 0.9587 - val_loss: 1.0032 - val_accuracy: 0.8100\n",
            "Epoch 20/20\n",
            "16/16 [==============================] - 1s 72ms/step - loss: 0.1234 - accuracy: 0.9575 - val_loss: 0.9883 - val_accuracy: 0.8020\n"
          ]
        }
      ]
    },
    {
      "cell_type": "code",
      "source": [
        "results = model.evaluate(x_test, one_hot_test_labels)"
      ],
      "metadata": {
        "colab": {
          "base_uri": "https://localhost:8080/"
        },
        "id": "wHeeTRu_mFuy",
        "outputId": "e4009ba8-aefa-4599-92fe-364eb0e089e6"
      },
      "execution_count": null,
      "outputs": [
        {
          "output_type": "stream",
          "name": "stdout",
          "text": [
            "71/71 [==============================] - 0s 5ms/step - loss: 1.1042 - accuracy: 0.7858\n"
          ]
        }
      ]
    }
  ]
}