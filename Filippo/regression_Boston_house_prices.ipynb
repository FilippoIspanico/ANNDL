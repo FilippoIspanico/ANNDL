{
  "nbformat": 4,
  "nbformat_minor": 0,
  "metadata": {
    "colab": {
      "provenance": [],
      "authorship_tag": "ABX9TyMu3e1ViQWtDurhqaQPEpFS",
      "include_colab_link": true
    },
    "kernelspec": {
      "name": "python3",
      "display_name": "Python 3"
    },
    "language_info": {
      "name": "python"
    }
  },
  "cells": [
    {
      "cell_type": "markdown",
      "metadata": {
        "id": "view-in-github",
        "colab_type": "text"
      },
      "source": [
        "<a href=\"https://colab.research.google.com/github/FilippoIspanico/ANNDL/blob/main/regression_Boston_house_prices.ipynb\" target=\"_parent\"><img src=\"https://colab.research.google.com/assets/colab-badge.svg\" alt=\"Open In Colab\"/></a>"
      ]
    },
    {
      "cell_type": "markdown",
      "source": [
        "# Predicting house prices: a regression example\n",
        "The value to be predict, the houses prices, is continuos. Hence this is a regrassion problem.\n",
        "\n",
        "The boston housing dataset will be used. It is a pretty small dataset hence, it will be used **k-fold cross validation**"
      ],
      "metadata": {
        "id": "UZYvGX0nR6E_"
      }
    },
    {
      "cell_type": "code",
      "execution_count": 4,
      "metadata": {
        "id": "wbDFJdzoRzd8"
      },
      "outputs": [],
      "source": [
        "from keras.datasets import boston_housing"
      ]
    },
    {
      "cell_type": "code",
      "source": [
        "(train_data, train_targets), (test_data, test_targets) = boston_housing.load_data()"
      ],
      "metadata": {
        "id": "wGbqvMAuSO25",
        "colab": {
          "base_uri": "https://localhost:8080/"
        },
        "outputId": "1584696b-a229-426e-bfe3-92a6631d6e5c"
      },
      "execution_count": 5,
      "outputs": [
        {
          "output_type": "stream",
          "name": "stdout",
          "text": [
            "Downloading data from https://storage.googleapis.com/tensorflow/tf-keras-datasets/boston_housing.npz\n",
            "57026/57026 [==============================] - 0s 0us/step\n"
          ]
        }
      ]
    },
    {
      "cell_type": "code",
      "source": [
        "print(train_data.shape)\n",
        "print(train_data[0]) # form here we observe that the features are eterogeneus--> we need to normalize them"
      ],
      "metadata": {
        "colab": {
          "base_uri": "https://localhost:8080/"
        },
        "id": "mc0HpC-CS7fq",
        "outputId": "3673fe40-1aa3-43db-8ccc-1926743304ca"
      },
      "execution_count": 6,
      "outputs": [
        {
          "output_type": "stream",
          "name": "stdout",
          "text": [
            "(404, 13)\n",
            "[  1.23247   0.        8.14      0.        0.538     6.142    91.7\n",
            "   3.9769    4.      307.       21.      396.9      18.72   ]\n"
          ]
        }
      ]
    },
    {
      "cell_type": "code",
      "source": [
        "mean = train_data.mean(axis = 0) # it is a vector that contains the means of all the features\n",
        "train_data -= mean\n",
        "std = train_data.std(axis = 0)\n",
        "train_data /=std\n",
        "\n",
        "# we need to normalize also the test data, but to do so we use the mean and std of the train data! NEVER USE IN WORKFLOW ANY QUANTITY COMPUTED ON THE TEST DATA\n",
        "test_data -= mean\n",
        "test_data /=std"
      ],
      "metadata": {
        "id": "YwLYiXinS_te"
      },
      "execution_count": 7,
      "outputs": []
    },
    {
      "cell_type": "markdown",
      "source": [
        "### Building the model"
      ],
      "metadata": {
        "id": "vTxpkS1cU0BI"
      }
    },
    {
      "cell_type": "code",
      "source": [
        "from keras import models, layers"
      ],
      "metadata": {
        "id": "EPLBWcsZU684"
      },
      "execution_count": 8,
      "outputs": []
    },
    {
      "cell_type": "code",
      "source": [
        "def build_model():\n",
        "  model = models.Sequential()\n",
        "  model.add(layers.Dense(64, activation = 'relu', input_shape = (train_data.shape[1], )))\n",
        "  model.add(layers.Dense(64, activation = 'relu'))\n",
        "  model.add(layers.Dense(1))\n",
        "  model.compile(optimizer = 'rmsprop', loss = 'mse', metrics = ['mae'])\n",
        "  return model"
      ],
      "metadata": {
        "id": "d8UYmC-0U-lP"
      },
      "execution_count": 17,
      "outputs": []
    },
    {
      "cell_type": "markdown",
      "source": [
        "### k-fold-cross validation\n"
      ],
      "metadata": {
        "id": "Nu4YEOpwXWaf"
      }
    },
    {
      "cell_type": "code",
      "source": [
        "import numpy as np"
      ],
      "metadata": {
        "id": "dpnVqcX-Z_35"
      },
      "execution_count": 14,
      "outputs": []
    },
    {
      "cell_type": "code",
      "source": [
        "k = 4\n",
        "num_val_samples = len(train_data) // k #note that the operator // is the floor division i.e 3//2 = 1\n",
        "num_epochs = 500\n",
        "all_scores = []\n",
        "all_mae_histories = []"
      ],
      "metadata": {
        "id": "MWcgsjnoWRsb"
      },
      "execution_count": 24,
      "outputs": []
    },
    {
      "cell_type": "markdown",
      "source": [
        "**Warning!** The next is highy latency code!"
      ],
      "metadata": {
        "id": "Q5mKhf1j0-dR"
      }
    },
    {
      "cell_type": "code",
      "source": [
        "history.history.keys()"
      ],
      "metadata": {
        "colab": {
          "base_uri": "https://localhost:8080/"
        },
        "id": "-FubhUfG3FS0",
        "outputId": "d9c06679-1402-43f5-8bc5-9d3d115adebf"
      },
      "execution_count": 22,
      "outputs": [
        {
          "output_type": "execute_result",
          "data": {
            "text/plain": [
              "dict_keys(['loss', 'mae', 'val_loss', 'val_mae'])"
            ]
          },
          "metadata": {},
          "execution_count": 22
        }
      ]
    },
    {
      "cell_type": "code",
      "source": [
        "for i in range(k):\n",
        "  print('processing fold #', i)\n",
        "  val_data = train_data[i*num_val_samples:(i+1)*num_val_samples]\n",
        "  val_targets = train_targets[i*num_val_samples:(i+1)*num_val_samples]\n",
        "\n",
        "\n",
        "  partial_train_data = np.concatenate([train_data[:i*num_val_samples], train_data[(i+1)*num_val_samples:]], axis = 0)\n",
        "\n",
        "  partial_train_targets = np.concatenate([train_targets[:i*num_val_samples], train_targets[(i+1)*num_val_samples:]], axis = 0)\n",
        "\n",
        "  model = build_model()\n",
        "\n",
        "  history = model.fit(partial_train_data, partial_train_targets, validation_data = (val_data, val_targets), epochs = num_epochs, batch_size = 1, verbose = 0)\n",
        "  mae_history = history.history['val_mae']\n",
        "  all_mae_histories.append(mae_history)\n"
      ],
      "metadata": {
        "colab": {
          "base_uri": "https://localhost:8080/"
        },
        "id": "o4_2EXszYLWL",
        "outputId": "1bf4e2fd-c985-4d41-deb1-cde93e08eecd"
      },
      "execution_count": 25,
      "outputs": [
        {
          "output_type": "stream",
          "name": "stdout",
          "text": [
            "processing fold # 0\n",
            "processing fold # 1\n",
            "processing fold # 2\n",
            "processing fold # 3\n"
          ]
        }
      ]
    },
    {
      "cell_type": "code",
      "source": [
        "print(all_scores)\n",
        "print(np.mean(all_scores))"
      ],
      "metadata": {
        "colab": {
          "base_uri": "https://localhost:8080/"
        },
        "id": "tClEI2rc1KoQ",
        "outputId": "799facba-0c3c-4d17-a6d9-b86c0c8d96c3"
      },
      "execution_count": 20,
      "outputs": [
        {
          "output_type": "stream",
          "name": "stdout",
          "text": [
            "[2.216269016265869, 2.4961483478546143, 2.8111085891723633, 2.4931888580322266]\n",
            "2.5041787028312683\n"
          ]
        }
      ]
    },
    {
      "cell_type": "code",
      "source": [
        "# so now we fix i. i is a number of an epoch.\n",
        "# for that epoch we compute the average of the k mae errors.\n",
        "# in this way we obtain a sequence of avereage of lenght = no_epochs\n",
        "average_mae_histories = [\n",
        "\n",
        "            np.mean(\n",
        "                [x[i] for x in all_mae_histories]\n",
        "                )\n",
        "            for i in range(num_epochs)\n",
        "            ]\n",
        "\n"
      ],
      "metadata": {
        "id": "24pJC0dr23PM"
      },
      "execution_count": 27,
      "outputs": []
    },
    {
      "cell_type": "code",
      "source": [
        "import matplotlib.pyplot as plt\n",
        "plt.plot(range(1, len(average_mae_histories) + 1 ), average_mae_histories)\n",
        "plt.xlabel('epochs')\n",
        "plt.ylabel('Validation MAE')\n",
        "plt.show()"
      ],
      "metadata": {
        "colab": {
          "base_uri": "https://localhost:8080/",
          "height": 449
        },
        "id": "vnfJw4wT7Cy4",
        "outputId": "9b53b2c6-61af-4e34-8f16-6f2de68828b3"
      },
      "execution_count": 28,
      "outputs": [
        {
          "output_type": "display_data",
          "data": {
            "text/plain": [
              "<Figure size 640x480 with 1 Axes>"
            ],
            "image/png": "[encoded data removed]"
          },
          "metadata": {}
        }
      ]
    },
    {
      "cell_type": "markdown",
      "source": [
        "### Building a new model\n",
        "once seen the optimal no. of epochs we start training a new model from scratch but we use all the test data! (no more validation!)"
      ],
      "metadata": {
        "id": "gBd2Pfm6-UtZ"
      }
    },
    {
      "cell_type": "code",
      "source": [
        "model = build_model()\n",
        "model.fit(train_data, train_targets, epochs = 80, batch_size = 16, verbose = 0)\n",
        "test_mse_score, test_mae_score = model.evaluate(test_data, test_targets)\n",
        "print(test_mae_score)"
      ],
      "metadata": {
        "colab": {
          "base_uri": "https://localhost:8080/"
        },
        "id": "tlf45I9p-OIi",
        "outputId": "9d37d196-5e8e-4c76-b77a-74abbaa7ae55"
      },
      "execution_count": 32,
      "outputs": [
        {
          "output_type": "stream",
          "name": "stdout",
          "text": [
            "4/4 [==============================] - 0s 3ms/step - loss: 17.5267 - mae: 2.6164\n",
            "2.61639404296875\n"
          ]
        }
      ]
    }
  ]
}